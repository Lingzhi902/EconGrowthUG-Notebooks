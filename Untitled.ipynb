{
 "cells": [
  {
   "cell_type": "code",
   "execution_count": 1,
   "id": "ebb34b5c-f1b9-4093-ac29-7c39f07421dc",
   "metadata": {},
   "outputs": [
    {
     "data": {
      "text/plain": [
       "['My all',\n",
       " 'Hero',\n",
       " 'Shadow of the sun',\n",
       " 'Say my name',\n",
       " 'Fall',\n",
       " 'NampN',\n",
       " 'Believe me',\n",
       " '2 Soon',\n",
       " 'Bones',\n",
       " 'Rooftop']"
      ]
     },
     "execution_count": 1,
     "metadata": {},
     "output_type": "execute_result"
    }
   ],
   "source": [
    "list1 = ['My all', 'Hero']\n",
    "list2 = ['Shadow of the sun', 'Say my name']\n",
    "list3 = ['Fall', 'NampN']\n",
    "list4 = ['Believe me', '2 Soon']\n",
    "list5 = ['Bones', 'Rooftop']\n",
    "list1 + list2 + list3 + list4 + list5"
   ]
  },
  {
   "cell_type": "code",
   "execution_count": 2,
   "id": "4a7bc46a-c00d-4836-a473-11fbca9e1346",
   "metadata": {},
   "outputs": [
    {
     "data": {
      "text/plain": [
       "['Imagine Dragon',\n",
       " 'The Weenkend',\n",
       " 'Doja Cat',\n",
       " 'Ava Max',\n",
       " 'Ariana Grande',\n",
       " 'Bruno Mars',\n",
       " 'Post Malone',\n",
       " 'Dua Lipa',\n",
       " 'Halsey',\n",
       " 'Lana Del Rey']"
      ]
     },
     "execution_count": 2,
     "metadata": {},
     "output_type": "execute_result"
    }
   ],
   "source": [
    "list1 = ['Imagine Dragon', 'The Weenkend']\n",
    "list2 = ['Doja Cat', 'Ava Max']\n",
    "list3 = ['Ariana Grande', 'Bruno Mars']\n",
    "list4 = ['Post Malone', 'Dua Lipa']\n",
    "list5 = ['Halsey', 'Lana Del Rey']\n",
    "list1 + list2 + list3 + list4 + list5"
   ]
  }
 ],
 "metadata": {
  "kernelspec": {
   "display_name": "Python 3 (ipykernel)",
   "language": "python",
   "name": "python3"
  },
  "language_info": {
   "codemirror_mode": {
    "name": "ipython",
    "version": 3
   },
   "file_extension": ".py",
   "mimetype": "text/x-python",
   "name": "python",
   "nbconvert_exporter": "python",
   "pygments_lexer": "ipython3",
   "version": "3.9.13"
  }
 },
 "nbformat": 4,
 "nbformat_minor": 5
}
